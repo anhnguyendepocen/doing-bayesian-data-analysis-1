{
 "metadata": {
  "name": "",
  "signature": "sha256:95f1c2077ddc7fb163e1757bf5c19253bd47e14ae450c64da4301a0efeea0815"
 },
 "nbformat": 3,
 "nbformat_minor": 0,
 "worksheets": [
  {
   "cells": [
    {
     "cell_type": "code",
     "collapsed": false,
     "input": [
      "import numpy as np\n",
      "import matplotlib.pyplot as plt\n",
      "%matplotlib inline"
     ],
     "language": "python",
     "metadata": {},
     "outputs": [],
     "prompt_number": 1
    },
    {
     "cell_type": "code",
     "collapsed": false,
     "input": [
      "def normal(x, mu=0.0, sigma=1.0):\n",
      "    return 1/(sigma * np.sqrt(2 * np.pi)) * np.exp(-0.5 * ((x-mu)/sigma) ** 2)"
     ],
     "language": "python",
     "metadata": {},
     "outputs": [],
     "prompt_number": 2
    },
    {
     "cell_type": "markdown",
     "metadata": {},
     "source": [
      "## (A) Area under the curve"
     ]
    },
    {
     "cell_type": "code",
     "collapsed": false,
     "input": [
      "mu = 0.0\n",
      "sigma = 1.0\n",
      "dx = 0.001\n",
      "xs = np.linspace(mu - sigma, mu + sigma, 1/dx)\n",
      "ys = normal(xs)\n",
      "sum(ys * dx)"
     ],
     "language": "python",
     "metadata": {},
     "outputs": [
      {
       "metadata": {},
       "output_type": "pyout",
       "prompt_number": 3,
       "text": [
        "0.34124529130933656"
       ]
      }
     ],
     "prompt_number": 3
    },
    {
     "cell_type": "markdown",
     "metadata": {},
     "source": [
      "## (B) 2/3 under the curve"
     ]
    },
    {
     "cell_type": "markdown",
     "metadata": {},
     "source": [
      "68% of probabilty mass lies between $\\mu - \\sigma$ and $\\mu + \\sigma$ which is roughly 2/3rds"
     ]
    },
    {
     "cell_type": "markdown",
     "metadata": {},
     "source": [
      "In this case, $ \\mu $ would be 162 cm with a $\\sigma$ of 15"
     ]
    }
   ],
   "metadata": {}
  }
 ]
}