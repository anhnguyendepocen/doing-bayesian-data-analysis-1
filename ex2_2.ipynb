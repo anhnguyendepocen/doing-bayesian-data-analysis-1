{
 "metadata": {
  "name": "",
  "signature": "sha256:e8fdbce0175673cdfe4ed810b106b3dc063670f60047bf1612a13ab6efd469f7"
 },
 "nbformat": 3,
 "nbformat_minor": 0,
 "worksheets": [
  {
   "cells": [
    {
     "cell_type": "code",
     "collapsed": false,
     "input": [
      "from ex2_1 import A, B, C, faces"
     ],
     "language": "python",
     "metadata": {},
     "outputs": [],
     "prompt_number": 1
    },
    {
     "cell_type": "code",
     "collapsed": false,
     "input": [
      "def rolls(faces, p, n=100):\n",
      "    \"\"\"Returns the expected number of rolls for each face given a list of faces\n",
      "    and a probability function p, n is the number of rolls (default 100)\"\"\"\n",
      "    return {x: int(p(x) * n) for x in faces}"
     ],
     "language": "python",
     "metadata": {},
     "outputs": [],
     "prompt_number": 2
    },
    {
     "cell_type": "markdown",
     "metadata": {},
     "source": [
      "100 rolls of __A__"
     ]
    },
    {
     "cell_type": "code",
     "collapsed": false,
     "input": [
      "rolls(faces, A)"
     ],
     "language": "python",
     "metadata": {},
     "outputs": [
      {
       "metadata": {},
       "output_type": "pyout",
       "prompt_number": 3,
       "text": [
        "{1: 25, 2: 25, 3: 25, 4: 25}"
       ]
      }
     ],
     "prompt_number": 3
    },
    {
     "cell_type": "markdown",
     "metadata": {},
     "source": [
      "100 rolls of __B__"
     ]
    },
    {
     "cell_type": "code",
     "collapsed": false,
     "input": [
      "rolls(faces, B)"
     ],
     "language": "python",
     "metadata": {},
     "outputs": [
      {
       "metadata": {},
       "output_type": "pyout",
       "prompt_number": 4,
       "text": [
        "{1: 10, 2: 20, 3: 30, 4: 40}"
       ]
      }
     ],
     "prompt_number": 4
    },
    {
     "cell_type": "markdown",
     "metadata": {},
     "source": [
      "100 rolls of __C__"
     ]
    },
    {
     "cell_type": "code",
     "collapsed": false,
     "input": [
      "rolls(faces, C)"
     ],
     "language": "python",
     "metadata": {},
     "outputs": [
      {
       "metadata": {},
       "output_type": "pyout",
       "prompt_number": 5,
       "text": [
        "{1: 48, 2: 24, 3: 16, 4: 12}"
       ]
      }
     ],
     "prompt_number": 5
    },
    {
     "cell_type": "markdown",
     "metadata": {},
     "source": [
      "The result, 1\u2019s = 25, 2\u2019s = 25, 3\u2019s = 25, 4\u2019s = 25, is closest to model __A__"
     ]
    },
    {
     "cell_type": "markdown",
     "metadata": {},
     "source": [
      "The result, 1\u2019s = 48, 2\u2019s = 24, 3\u2019s = 16, 4\u2019s = 12, is closest to model __C__"
     ]
    }
   ],
   "metadata": {}
  }
 ]
}