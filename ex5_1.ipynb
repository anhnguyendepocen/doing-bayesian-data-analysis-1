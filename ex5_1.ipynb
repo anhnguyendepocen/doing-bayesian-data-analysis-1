{
 "metadata": {
  "name": "",
  "signature": "sha256:6e84dac874888ecf9624ecaef8ba52d0b0f16196bbf31e7bfef84ec441d4fa43"
 },
 "nbformat": 3,
 "nbformat_minor": 0,
 "worksheets": [
  {
   "cells": [
    {
     "cell_type": "markdown",
     "metadata": {},
     "source": [
      "## Disease Test"
     ]
    },
    {
     "cell_type": "markdown",
     "metadata": {},
     "source": [
      "## $P(+\\space|\\space\\ddot\\frown)$"
     ]
    },
    {
     "cell_type": "code",
     "collapsed": false,
     "input": [
      "p_pos_1_bad = 0.99\n",
      "p_pos_1_bad"
     ],
     "language": "python",
     "metadata": {},
     "outputs": [
      {
       "metadata": {},
       "output_type": "pyout",
       "prompt_number": 1,
       "text": [
        "0.99"
       ]
      }
     ],
     "prompt_number": 1
    },
    {
     "cell_type": "markdown",
     "metadata": {},
     "source": [
      "## $P(\\ddot\\frown)$"
     ]
    },
    {
     "cell_type": "code",
     "collapsed": false,
     "input": [
      "p_bad = 0.001\n",
      "p_bad"
     ],
     "language": "python",
     "metadata": {},
     "outputs": [
      {
       "metadata": {},
       "output_type": "pyout",
       "prompt_number": 2,
       "text": [
        "0.001"
       ]
      }
     ],
     "prompt_number": 2
    },
    {
     "cell_type": "markdown",
     "metadata": {},
     "source": [
      "## $P(+\\space|\\space\\ddot\\smile)$"
     ]
    },
    {
     "cell_type": "code",
     "collapsed": false,
     "input": [
      "p_pos_1_good = 0.05\n",
      "p_pos_1_good"
     ],
     "language": "python",
     "metadata": {},
     "outputs": [
      {
       "metadata": {},
       "output_type": "pyout",
       "prompt_number": 3,
       "text": [
        "0.05"
       ]
      }
     ],
     "prompt_number": 3
    },
    {
     "cell_type": "markdown",
     "metadata": {},
     "source": [
      "## $P(\\ddot\\frown\\space|\\space+)$\n",
      "\n",
      "Using Bayes' rule"
     ]
    },
    {
     "cell_type": "code",
     "collapsed": false,
     "input": [
      "p_good = 1 - p_bad\n",
      "p_pos = p_pos_1_bad * p_bad + p_pos_1_good * p_good\n",
      "p_bad_1_pos = (p_pos_1_bad * p_bad)/p_pos\n",
      "p_bad_1_pos"
     ],
     "language": "python",
     "metadata": {},
     "outputs": [
      {
       "metadata": {},
       "output_type": "pyout",
       "prompt_number": 4,
       "text": [
        "0.019434628975265017"
       ]
      }
     ],
     "prompt_number": 4
    },
    {
     "cell_type": "markdown",
     "metadata": {},
     "source": [
      "## Updating Priors\n",
      "\n",
      "Updating our prior, $P(\\ddot\\frown)$, to be the new posterior, $P(\\ddot\\frown\\space|\\space+)$"
     ]
    },
    {
     "cell_type": "code",
     "collapsed": false,
     "input": [
      "p_bad = p_bad_1_pos\n",
      "p_bad"
     ],
     "language": "python",
     "metadata": {},
     "outputs": [
      {
       "metadata": {},
       "output_type": "pyout",
       "prompt_number": 5,
       "text": [
        "0.019434628975265017"
       ]
      }
     ],
     "prompt_number": 5
    },
    {
     "cell_type": "markdown",
     "metadata": {},
     "source": [
      "Updating all relevant probabilties"
     ]
    },
    {
     "cell_type": "code",
     "collapsed": false,
     "input": [
      "p_good = 1 - p_bad\n",
      "p_neg_1_bad = 1 - p_pos_1_bad\n",
      "p_neg_1_good = 1 - p_pos_1_good\n",
      "p_neg_bad = p_neg_1_bad * p_bad\n",
      "p_neg_good = p_neg_1_good * p_good\n",
      "p_neg = p_neg_bad + p_neg_good"
     ],
     "language": "python",
     "metadata": {},
     "outputs": [],
     "prompt_number": 6
    },
    {
     "cell_type": "markdown",
     "metadata": {},
     "source": [
      "Our patient now tests negative, the new probability of being afflicted with the disease can be calculated\n",
      "by using Bayes' rule again with the new posterior as the prior"
     ]
    },
    {
     "cell_type": "code",
     "collapsed": false,
     "input": [
      "p_bad_1_neg = p_neg_bad/p_neg\n",
      "p_bad_1_neg"
     ],
     "language": "python",
     "metadata": {},
     "outputs": [
      {
       "metadata": {},
       "output_type": "pyout",
       "prompt_number": 7,
       "text": [
        "0.00020858616504854387"
       ]
      }
     ],
     "prompt_number": 7
    }
   ],
   "metadata": {}
  }
 ]
}