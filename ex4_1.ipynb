{
 "metadata": {
  "name": "",
  "signature": "sha256:344d4e452e718b3b8e3eed36af1dbabdcca119880451eebbd9528fd6f2329351"
 },
 "nbformat": 3,
 "nbformat_minor": 0,
 "worksheets": [
  {
   "cells": [
    {
     "cell_type": "code",
     "collapsed": false,
     "input": [
      "import numpy as np\n",
      "import pandas as pd\n",
      "from pandas import Series, DataFrame"
     ],
     "language": "python",
     "metadata": {},
     "outputs": [],
     "prompt_number": 1
    },
    {
     "cell_type": "markdown",
     "metadata": {},
     "source": [
      "## Hair Eye Color"
     ]
    },
    {
     "cell_type": "code",
     "collapsed": false,
     "input": [
      "hair_eye_color = pd.read_csv(\"data/HairEyeColor.csv\", index_col=0)\n",
      "hair_eye_color[:3]"
     ],
     "language": "python",
     "metadata": {},
     "outputs": [
      {
       "html": [
        "<div style=\"max-height:1000px;max-width:1500px;overflow:auto;\">\n",
        "<table border=\"1\" class=\"dataframe\">\n",
        "  <thead>\n",
        "    <tr style=\"text-align: right;\">\n",
        "      <th></th>\n",
        "      <th>Hair</th>\n",
        "      <th>Eye</th>\n",
        "      <th>Sex</th>\n",
        "      <th>Freq</th>\n",
        "    </tr>\n",
        "  </thead>\n",
        "  <tbody>\n",
        "    <tr>\n",
        "      <th>1</th>\n",
        "      <td> Black</td>\n",
        "      <td> Brown</td>\n",
        "      <td> Male</td>\n",
        "      <td> 32</td>\n",
        "    </tr>\n",
        "    <tr>\n",
        "      <th>2</th>\n",
        "      <td> Brown</td>\n",
        "      <td> Brown</td>\n",
        "      <td> Male</td>\n",
        "      <td> 53</td>\n",
        "    </tr>\n",
        "    <tr>\n",
        "      <th>3</th>\n",
        "      <td>   Red</td>\n",
        "      <td> Brown</td>\n",
        "      <td> Male</td>\n",
        "      <td> 10</td>\n",
        "    </tr>\n",
        "  </tbody>\n",
        "</table>\n",
        "</div>"
       ],
       "metadata": {},
       "output_type": "pyout",
       "prompt_number": 2,
       "text": [
        "    Hair    Eye   Sex  Freq\n",
        "1  Black  Brown  Male    32\n",
        "2  Brown  Brown  Male    53\n",
        "3    Red  Brown  Male    10"
       ]
      }
     ],
     "prompt_number": 2
    },
    {
     "cell_type": "markdown",
     "metadata": {},
     "source": [
      "## Eye Hair Frequency"
     ]
    },
    {
     "cell_type": "code",
     "collapsed": false,
     "input": [
      "eye_hair_freq = hair_eye_color.groupby([\"Eye\", \"Hair\"])[\"Freq\"].sum()\n",
      "eye_hair_freq[:3]"
     ],
     "language": "python",
     "metadata": {},
     "outputs": [
      {
       "metadata": {},
       "output_type": "pyout",
       "prompt_number": 3,
       "text": [
        "Eye   Hair \n",
        "Blue  Black    20\n",
        "      Blond    94\n",
        "      Brown    84\n",
        "Name: Freq, dtype: int64"
       ]
      }
     ],
     "prompt_number": 3
    },
    {
     "cell_type": "markdown",
     "metadata": {},
     "source": [
      "## Eye Hair Marginal Proportions"
     ]
    },
    {
     "cell_type": "code",
     "collapsed": false,
     "input": [
      "eye_hair_prop = eye_hair_freq/eye_hair_freq.sum()\n",
      "np.round(eye_hair_prop, decimals=2)"
     ],
     "language": "python",
     "metadata": {},
     "outputs": [
      {
       "metadata": {},
       "output_type": "pyout",
       "prompt_number": 4,
       "text": [
        "Eye    Hair \n",
        "Blue   Black    0.03\n",
        "       Blond    0.16\n",
        "       Brown    0.14\n",
        "       Red      0.03\n",
        "Brown  Black    0.11\n",
        "       Blond    0.01\n",
        "       Brown    0.20\n",
        "       Red      0.04\n",
        "Green  Black    0.01\n",
        "       Blond    0.03\n",
        "       Brown    0.05\n",
        "       Red      0.02\n",
        "Hazel  Black    0.03\n",
        "       Blond    0.02\n",
        "       Brown    0.09\n",
        "       Red      0.02\n",
        "Name: Freq, dtype: float64"
       ]
      }
     ],
     "prompt_number": 4
    },
    {
     "cell_type": "markdown",
     "metadata": {},
     "source": [
      "## Eye Frequency"
     ]
    },
    {
     "cell_type": "code",
     "collapsed": false,
     "input": [
      "eye_freq = hair_eye_color.groupby(\"Eye\")[\"Freq\"].sum()\n",
      "eye_freq"
     ],
     "language": "python",
     "metadata": {},
     "outputs": [
      {
       "metadata": {},
       "output_type": "pyout",
       "prompt_number": 5,
       "text": [
        "Eye\n",
        "Blue     215\n",
        "Brown    220\n",
        "Green     64\n",
        "Hazel     93\n",
        "Name: Freq, dtype: int64"
       ]
      }
     ],
     "prompt_number": 5
    },
    {
     "cell_type": "markdown",
     "metadata": {},
     "source": [
      "## Eye Marginal Proportions"
     ]
    },
    {
     "cell_type": "code",
     "collapsed": false,
     "input": [
      "eye_prop = eye_freq/eye_freq.sum()\n",
      "np.round(eye_prop, decimals=2)"
     ],
     "language": "python",
     "metadata": {},
     "outputs": [
      {
       "metadata": {},
       "output_type": "pyout",
       "prompt_number": 6,
       "text": [
        "Eye\n",
        "Blue     0.36\n",
        "Brown    0.37\n",
        "Green    0.11\n",
        "Hazel    0.16\n",
        "Name: Freq, dtype: float64"
       ]
      }
     ],
     "prompt_number": 6
    },
    {
     "cell_type": "markdown",
     "metadata": {},
     "source": [
      "## $ P(Hair^* | Blue Eyes) $"
     ]
    },
    {
     "cell_type": "code",
     "collapsed": false,
     "input": [
      "eye_hair_prop[\"Blue\"]/eye_prop[\"Blue\"]"
     ],
     "language": "python",
     "metadata": {},
     "outputs": [
      {
       "metadata": {},
       "output_type": "pyout",
       "prompt_number": 7,
       "text": [
        "Hair\n",
        "Black    0.093023\n",
        "Blond    0.437209\n",
        "Brown    0.390698\n",
        "Red      0.079070\n",
        "Name: Freq, dtype: float64"
       ]
      }
     ],
     "prompt_number": 7
    },
    {
     "cell_type": "markdown",
     "metadata": {},
     "source": [
      "## $ P(Hair^* | Brown Eyes)$"
     ]
    },
    {
     "cell_type": "code",
     "collapsed": false,
     "input": [
      "eye_hair_prop[\"Brown\"]/eye_prop[\"Brown\"]"
     ],
     "language": "python",
     "metadata": {},
     "outputs": [
      {
       "metadata": {},
       "output_type": "pyout",
       "prompt_number": 8,
       "text": [
        "Hair\n",
        "Black    0.309091\n",
        "Blond    0.031818\n",
        "Brown    0.540909\n",
        "Red      0.118182\n",
        "Name: Freq, dtype: float64"
       ]
      }
     ],
     "prompt_number": 8
    },
    {
     "cell_type": "markdown",
     "metadata": {},
     "source": [
      "## Hair Frequency"
     ]
    },
    {
     "cell_type": "code",
     "collapsed": false,
     "input": [
      "hair_freq = hair_eye_color.groupby(\"Hair\")[\"Freq\"].sum()\n",
      "hair_freq"
     ],
     "language": "python",
     "metadata": {},
     "outputs": [
      {
       "metadata": {},
       "output_type": "pyout",
       "prompt_number": 9,
       "text": [
        "Hair\n",
        "Black    108\n",
        "Blond    127\n",
        "Brown    286\n",
        "Red       71\n",
        "Name: Freq, dtype: int64"
       ]
      }
     ],
     "prompt_number": 9
    },
    {
     "cell_type": "markdown",
     "metadata": {},
     "source": [
      "## Hair Marginal Proportions"
     ]
    },
    {
     "cell_type": "code",
     "collapsed": false,
     "input": [
      "hair_prop = hair_freq/hair_freq.sum()\n",
      "np.round(hair_prop, decimals=2)"
     ],
     "language": "python",
     "metadata": {},
     "outputs": [
      {
       "metadata": {},
       "output_type": "pyout",
       "prompt_number": 10,
       "text": [
        "Hair\n",
        "Black    0.18\n",
        "Blond    0.21\n",
        "Brown    0.48\n",
        "Red      0.12\n",
        "Name: Freq, dtype: float64"
       ]
      }
     ],
     "prompt_number": 10
    },
    {
     "cell_type": "markdown",
     "metadata": {},
     "source": [
      "## $P(Eye^* | Brown Hair)$"
     ]
    },
    {
     "cell_type": "code",
     "collapsed": false,
     "input": [
      "eye_hair_prop[:,\"Brown\"]/hair_prop[\"Brown\"]"
     ],
     "language": "python",
     "metadata": {},
     "outputs": [
      {
       "metadata": {},
       "output_type": "pyout",
       "prompt_number": 11,
       "text": [
        "Eye\n",
        "Blue     0.293706\n",
        "Brown    0.416084\n",
        "Green    0.101399\n",
        "Hazel    0.188811\n",
        "Name: Freq, dtype: float64"
       ]
      }
     ],
     "prompt_number": 11
    }
   ],
   "metadata": {}
  }
 ]
}