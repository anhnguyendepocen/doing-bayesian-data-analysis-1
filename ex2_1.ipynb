{
 "metadata": {
  "name": "",
  "signature": "sha256:0ceb19af8018397905784c47d31b97cbdbbd610d9af37f6f817a92fbb05cad1f"
 },
 "nbformat": 3,
 "nbformat_minor": 0,
 "worksheets": [
  {
   "cells": [
    {
     "cell_type": "code",
     "collapsed": false,
     "input": [
      "faces = [1, 2, 3, 4]"
     ],
     "language": "python",
     "metadata": {},
     "outputs": [],
     "prompt_number": 1
    },
    {
     "cell_type": "markdown",
     "metadata": {},
     "source": [
      "## Model A \n",
      "\n",
      "$ p(x) = \\frac{1}{4} $"
     ]
    },
    {
     "cell_type": "code",
     "collapsed": false,
     "input": [
      "def A(x):\n",
      "    return 1/4.0"
     ],
     "language": "python",
     "metadata": {},
     "outputs": [],
     "prompt_number": 2
    },
    {
     "cell_type": "markdown",
     "metadata": {},
     "source": [
      "## Model B\n",
      "\n",
      "$ p(x) = \\frac{x}{10} $"
     ]
    },
    {
     "cell_type": "code",
     "collapsed": false,
     "input": [
      "def B(x):\n",
      "    return x/10.0"
     ],
     "language": "python",
     "metadata": {},
     "outputs": [],
     "prompt_number": 3
    },
    {
     "cell_type": "markdown",
     "metadata": {},
     "source": [
      "## Model C\n",
      "\n",
      "$ p(x) = \\frac{12}{25\\cdot x} $"
     ]
    },
    {
     "cell_type": "code",
     "collapsed": false,
     "input": [
      "def C(x):\n",
      "    return 12/(25.0 * x)"
     ],
     "language": "python",
     "metadata": {},
     "outputs": [],
     "prompt_number": 4
    },
    {
     "cell_type": "markdown",
     "metadata": {},
     "source": [
      "## Evaulating Models"
     ]
    },
    {
     "cell_type": "markdown",
     "metadata": {},
     "source": [
      "* Model A"
     ]
    },
    {
     "cell_type": "code",
     "collapsed": false,
     "input": [
      "[A(x) for x in faces]"
     ],
     "language": "python",
     "metadata": {},
     "outputs": [
      {
       "metadata": {},
       "output_type": "pyout",
       "prompt_number": 5,
       "text": [
        "[0.25, 0.25, 0.25, 0.25]"
       ]
      }
     ],
     "prompt_number": 5
    },
    {
     "cell_type": "markdown",
     "metadata": {},
     "source": [
      "Model A is an unbiased model, with equal probabilities for each face"
     ]
    },
    {
     "cell_type": "markdown",
     "metadata": {},
     "source": [
      "* Model B"
     ]
    },
    {
     "cell_type": "code",
     "collapsed": false,
     "input": [
      "[B(x) for x in faces]"
     ],
     "language": "python",
     "metadata": {},
     "outputs": [
      {
       "metadata": {},
       "output_type": "pyout",
       "prompt_number": 6,
       "text": [
        "[0.1, 0.2, 0.3, 0.4]"
       ]
      }
     ],
     "prompt_number": 6
    },
    {
     "cell_type": "markdown",
     "metadata": {},
     "source": [
      "Model B is biased proportional to the value of each face"
     ]
    },
    {
     "cell_type": "markdown",
     "metadata": {},
     "source": [
      "* Model C"
     ]
    },
    {
     "cell_type": "code",
     "collapsed": false,
     "input": [
      "[C(x) for x in faces]"
     ],
     "language": "python",
     "metadata": {},
     "outputs": [
      {
       "metadata": {},
       "output_type": "pyout",
       "prompt_number": 7,
       "text": [
        "[0.48, 0.24, 0.16, 0.12]"
       ]
      }
     ],
     "prompt_number": 7
    },
    {
     "cell_type": "markdown",
     "metadata": {},
     "source": [
      "Model C is is biased inversely proportional to the value of each face"
     ]
    }
   ],
   "metadata": {}
  }
 ]
}