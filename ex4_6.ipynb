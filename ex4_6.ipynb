{
 "metadata": {
  "name": "",
  "signature": "sha256:d31d0267f1024ab237fda1aecef064e69930f7a06374b9e0e646dfefd6626e80"
 },
 "nbformat": 3,
 "nbformat_minor": 0,
 "worksheets": [
  {
   "cells": [
    {
     "cell_type": "code",
     "collapsed": false,
     "input": [
      "import numpy as np\n",
      "import pandas as pd\n",
      "from pandas import Series, DataFrame"
     ],
     "language": "python",
     "metadata": {},
     "outputs": [],
     "prompt_number": 1
    },
    {
     "cell_type": "markdown",
     "metadata": {},
     "source": [
      "## $ P(grade) $"
     ]
    },
    {
     "cell_type": "code",
     "collapsed": false,
     "input": [
      "p_grade = Series([0.2, 0.2, 0.6], index=[\"first\", \"sixth\", \"eleventh\"])\n",
      "p_grade"
     ],
     "language": "python",
     "metadata": {},
     "outputs": [
      {
       "metadata": {},
       "output_type": "pyout",
       "prompt_number": 2,
       "text": [
        "first       0.2\n",
        "sixth       0.2\n",
        "eleventh    0.6\n",
        "dtype: float64"
       ]
      }
     ],
     "prompt_number": 2
    },
    {
     "cell_type": "markdown",
     "metadata": {},
     "source": [
      "## $ P(food | grade) $"
     ]
    },
    {
     "cell_type": "code",
     "collapsed": false,
     "input": [
      "p_food_1_grade = Series([0.3, 0.6, 0.1,\n",
      "                         0.6, 0.3, 0.1,\n",
      "                         0.3, 0.1, 0.6],\n",
      "                         index=pd.MultiIndex(levels=[[\"first\", \"sixth\", \"eleventh\"],\n",
      "                                                     [\"ice cream\", \"fruit\", \"french fries\"]],\n",
      "                                             labels=[[0]*3 + [1]*3 + [2]*3,\n",
      "                                                     [0, 1, 2]*3],\n",
      "                                             names=[\"grade\", \"food\"]))\n",
      "p_food_1_grade"
     ],
     "language": "python",
     "metadata": {},
     "outputs": [
      {
       "metadata": {},
       "output_type": "pyout",
       "prompt_number": 3,
       "text": [
        "grade     food        \n",
        "first     ice cream       0.3\n",
        "          fruit           0.6\n",
        "          french fries    0.1\n",
        "sixth     ice cream       0.6\n",
        "          fruit           0.3\n",
        "          french fries    0.1\n",
        "eleventh  ice cream       0.3\n",
        "          fruit           0.1\n",
        "          french fries    0.6\n",
        "dtype: float64"
       ]
      }
     ],
     "prompt_number": 3
    },
    {
     "cell_type": "markdown",
     "metadata": {},
     "source": [
      "## $ P(grade, food) $"
     ]
    },
    {
     "cell_type": "code",
     "collapsed": false,
     "input": [
      "p_grade_food = p_food_1_grade.multiply(p_grade, level=0)\n",
      "p_grade_food"
     ],
     "language": "python",
     "metadata": {},
     "outputs": [
      {
       "metadata": {},
       "output_type": "pyout",
       "prompt_number": 4,
       "text": [
        "grade     food        \n",
        "first     ice cream       0.06\n",
        "          fruit           0.12\n",
        "          french fries    0.02\n",
        "sixth     ice cream       0.12\n",
        "          fruit           0.06\n",
        "          french fries    0.02\n",
        "eleventh  ice cream       0.18\n",
        "          fruit           0.06\n",
        "          french fries    0.36\n",
        "dtype: float64"
       ]
      }
     ],
     "prompt_number": 4
    },
    {
     "cell_type": "markdown",
     "metadata": {},
     "source": [
      "## Checking Independence"
     ]
    },
    {
     "cell_type": "markdown",
     "metadata": {},
     "source": [
      "$ P(grade) $ and $ P(food) $ are independent if $ P(grade, food) = P(grade) \\cdot P(food) $"
     ]
    },
    {
     "cell_type": "markdown",
     "metadata": {},
     "source": [
      "### $ P(grade) $"
     ]
    },
    {
     "cell_type": "code",
     "collapsed": false,
     "input": [
      "p_grade = p_grade_food.sum(level=0)\n",
      "p_grade"
     ],
     "language": "python",
     "metadata": {},
     "outputs": [
      {
       "metadata": {},
       "output_type": "pyout",
       "prompt_number": 5,
       "text": [
        "grade\n",
        "first       0.2\n",
        "sixth       0.2\n",
        "eleventh    0.6\n",
        "dtype: float64"
       ]
      }
     ],
     "prompt_number": 5
    },
    {
     "cell_type": "markdown",
     "metadata": {},
     "source": [
      "### $ P(food) $"
     ]
    },
    {
     "cell_type": "code",
     "collapsed": false,
     "input": [
      "p_food = p_grade_food.sum(level=1)\n",
      "p_food"
     ],
     "language": "python",
     "metadata": {},
     "outputs": [
      {
       "metadata": {},
       "output_type": "pyout",
       "prompt_number": 6,
       "text": [
        "food\n",
        "ice cream       0.36\n",
        "fruit           0.24\n",
        "french fries    0.40\n",
        "dtype: float64"
       ]
      }
     ],
     "prompt_number": 6
    },
    {
     "cell_type": "markdown",
     "metadata": {},
     "source": [
      "### $ P(grade) \\cdot P(food) $"
     ]
    },
    {
     "cell_type": "code",
     "collapsed": false,
     "input": [
      "probabilities = []\n",
      "for grade in p_grade:\n",
      "    for food in p_food:\n",
      "        probabilities.append(grade * food)\n",
      "        \n",
      "Series(probabilities, index=p_grade_food.index)"
     ],
     "language": "python",
     "metadata": {},
     "outputs": [
      {
       "metadata": {},
       "output_type": "pyout",
       "prompt_number": 7,
       "text": [
        "grade     food        \n",
        "first     ice cream       0.072\n",
        "          fruit           0.048\n",
        "          french fries    0.080\n",
        "sixth     ice cream       0.072\n",
        "          fruit           0.048\n",
        "          french fries    0.080\n",
        "eleventh  ice cream       0.216\n",
        "          fruit           0.144\n",
        "          french fries    0.240\n",
        "dtype: float64"
       ]
      }
     ],
     "prompt_number": 7
    },
    {
     "cell_type": "markdown",
     "metadata": {},
     "source": [
      "Since this is not equal to $ P(grade, food) $, the events are not independent"
     ]
    }
   ],
   "metadata": {}
  }
 ]
}