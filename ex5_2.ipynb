{
 "metadata": {
  "name": "",
  "signature": "sha256:49759d0f8ffa9ec6a198237c227bd2d1db19df12c1957157b039b7b2fcb81e63"
 },
 "nbformat": 3,
 "nbformat_minor": 0,
 "worksheets": [
  {
   "cells": [
    {
     "cell_type": "markdown",
     "metadata": {},
     "source": [
      "## Probabilities"
     ]
    },
    {
     "cell_type": "code",
     "collapsed": false,
     "input": [
      "p_pos_1_bad = 0.99\n",
      "p_pos_1_good = 0.05\n",
      "p_bad = 0.001\n",
      "p_good = 1 - p_bad\n",
      "p_pos_good = p_pos_1_good * p_good\n",
      "p_pos_bad = p_pos_1_bad * p_bad\n",
      "p_pos = p_pos_good + p_pos_bad\n",
      "p_neg = 1 - p_pos\n",
      "p_neg_1_bad = 1 - p_pos_1_bad\n",
      "p_neg_1_good = 1 - p_pos_1_good\n",
      "p_neg_bad = p_neg_1_bad * p_bad\n",
      "p_neg_good = p_neg_1_good * p_good"
     ],
     "language": "python",
     "metadata": {},
     "outputs": [],
     "prompt_number": 1
    },
    {
     "cell_type": "markdown",
     "metadata": {},
     "source": [
      "## (A) Population"
     ]
    },
    {
     "cell_type": "code",
     "collapsed": false,
     "input": [
      "N = 100000\n",
      "N"
     ],
     "language": "python",
     "metadata": {},
     "outputs": [
      {
       "metadata": {},
       "output_type": "pyout",
       "prompt_number": 2,
       "text": [
        "100000"
       ]
      }
     ],
     "prompt_number": 2
    },
    {
     "cell_type": "markdown",
     "metadata": {},
     "source": [
      "## $P(+\\space,\\space\\ddot\\frown)$"
     ]
    },
    {
     "cell_type": "code",
     "collapsed": false,
     "input": [
      "int(N * p_pos_bad)"
     ],
     "language": "python",
     "metadata": {},
     "outputs": [
      {
       "metadata": {},
       "output_type": "pyout",
       "prompt_number": 3,
       "text": [
        "99"
       ]
      }
     ],
     "prompt_number": 3
    },
    {
     "cell_type": "markdown",
     "metadata": {},
     "source": [
      "## $P(-\\space,\\space\\ddot\\frown)$"
     ]
    },
    {
     "cell_type": "code",
     "collapsed": false,
     "input": [
      "int(N * p_neg_bad)"
     ],
     "language": "python",
     "metadata": {},
     "outputs": [
      {
       "metadata": {},
       "output_type": "pyout",
       "prompt_number": 4,
       "text": [
        "1"
       ]
      }
     ],
     "prompt_number": 4
    },
    {
     "cell_type": "markdown",
     "metadata": {},
     "source": [
      "## $P(\\ddot\\frown)$"
     ]
    },
    {
     "cell_type": "code",
     "collapsed": false,
     "input": [
      "int(N * p_bad)"
     ],
     "language": "python",
     "metadata": {},
     "outputs": [
      {
       "metadata": {},
       "output_type": "pyout",
       "prompt_number": 5,
       "text": [
        "100"
       ]
      }
     ],
     "prompt_number": 5
    },
    {
     "cell_type": "markdown",
     "metadata": {},
     "source": [
      "## $P(+\\space,\\space\\ddot\\smile)$"
     ]
    },
    {
     "cell_type": "code",
     "collapsed": false,
     "input": [
      "int(N * p_pos_good)"
     ],
     "language": "python",
     "metadata": {},
     "outputs": [
      {
       "metadata": {},
       "output_type": "pyout",
       "prompt_number": 6,
       "text": [
        "4995"
       ]
      }
     ],
     "prompt_number": 6
    },
    {
     "cell_type": "markdown",
     "metadata": {},
     "source": [
      "## $P(-\\space,\\space\\ddot\\smile)$"
     ]
    },
    {
     "cell_type": "code",
     "collapsed": false,
     "input": [
      "int(N * p_neg_good)"
     ],
     "language": "python",
     "metadata": {},
     "outputs": [
      {
       "metadata": {},
       "output_type": "pyout",
       "prompt_number": 7,
       "text": [
        "94905"
       ]
      }
     ],
     "prompt_number": 7
    },
    {
     "cell_type": "markdown",
     "metadata": {},
     "source": [
      "## $P(\\ddot\\smile)$"
     ]
    },
    {
     "cell_type": "code",
     "collapsed": false,
     "input": [
      "int(N * p_good)"
     ],
     "language": "python",
     "metadata": {},
     "outputs": [
      {
       "metadata": {},
       "output_type": "pyout",
       "prompt_number": 8,
       "text": [
        "99900"
       ]
      }
     ],
     "prompt_number": 8
    },
    {
     "cell_type": "markdown",
     "metadata": {},
     "source": [
      "## $P(+)$"
     ]
    },
    {
     "cell_type": "code",
     "collapsed": false,
     "input": [
      "int(N * p_pos)"
     ],
     "language": "python",
     "metadata": {},
     "outputs": [
      {
       "metadata": {},
       "output_type": "pyout",
       "prompt_number": 9,
       "text": [
        "5094"
       ]
      }
     ],
     "prompt_number": 9
    },
    {
     "cell_type": "markdown",
     "metadata": {},
     "source": [
      "## $P(-)$"
     ]
    },
    {
     "cell_type": "code",
     "collapsed": false,
     "input": [
      "int(N * p_neg)"
     ],
     "language": "python",
     "metadata": {},
     "outputs": [
      {
       "metadata": {},
       "output_type": "pyout",
       "prompt_number": 10,
       "text": [
        "94906"
       ]
      }
     ],
     "prompt_number": 10
    },
    {
     "cell_type": "markdown",
     "metadata": {},
     "source": [
      "## (B) Estimation\n",
      "\n",
      "Looking at the table, I expect even after a positive test, most of the test takers won't have the disease.\n",
      "\n",
      "I predict a number close to 100"
     ]
    },
    {
     "cell_type": "code",
     "collapsed": false,
     "input": [
      "p_bad_1_pos = p_pos_bad/p_pos\n",
      "int(N * p_bad_1_pos)"
     ],
     "language": "python",
     "metadata": {},
     "outputs": [
      {
       "metadata": {},
       "output_type": "pyout",
       "prompt_number": 11,
       "text": [
        "1943"
       ]
      }
     ],
     "prompt_number": 11
    },
    {
     "cell_type": "markdown",
     "metadata": {},
     "source": [
      "## (C) Markov Representation"
     ]
    },
    {
     "cell_type": "code",
     "collapsed": false,
     "input": [
      "N = 10000000\n",
      "N"
     ],
     "language": "python",
     "metadata": {},
     "outputs": [
      {
       "metadata": {},
       "output_type": "pyout",
       "prompt_number": 12,
       "text": [
        "10000000"
       ]
      }
     ],
     "prompt_number": 12
    },
    {
     "cell_type": "code",
     "collapsed": false,
     "input": [
      "pop_p_bad = int(N * p_bad)\n",
      "pop_p_bad"
     ],
     "language": "python",
     "metadata": {},
     "outputs": [
      {
       "metadata": {},
       "output_type": "pyout",
       "prompt_number": 13,
       "text": [
        "10000"
       ]
      }
     ],
     "prompt_number": 13
    },
    {
     "cell_type": "code",
     "collapsed": false,
     "input": [
      "pop_p_pos0_bad = int(pop_p_bad * p_pos_1_bad)\n",
      "pop_p_pos0_bad"
     ],
     "language": "python",
     "metadata": {},
     "outputs": [
      {
       "metadata": {},
       "output_type": "pyout",
       "prompt_number": 14,
       "text": [
        "9900"
       ]
      }
     ],
     "prompt_number": 14
    },
    {
     "cell_type": "code",
     "collapsed": false,
     "input": [
      "pop_p_pos0_neg1_bad = int(pop_p_pos0_bad * p_neg_1_bad)\n",
      "pop_p_pos0_neg1_bad"
     ],
     "language": "python",
     "metadata": {},
     "outputs": [
      {
       "metadata": {},
       "output_type": "pyout",
       "prompt_number": 15,
       "text": [
        "99"
       ]
      }
     ],
     "prompt_number": 15
    },
    {
     "cell_type": "code",
     "collapsed": false,
     "input": [
      "pop_p_good = int(N * p_good)\n",
      "pop_p_good"
     ],
     "language": "python",
     "metadata": {},
     "outputs": [
      {
       "metadata": {},
       "output_type": "pyout",
       "prompt_number": 16,
       "text": [
        "9990000"
       ]
      }
     ],
     "prompt_number": 16
    },
    {
     "cell_type": "code",
     "collapsed": false,
     "input": [
      "pop_p_pos0_good = int(pop_p_good * p_pos_1_good)\n",
      "pop_p_pos0_good"
     ],
     "language": "python",
     "metadata": {},
     "outputs": [
      {
       "metadata": {},
       "output_type": "pyout",
       "prompt_number": 17,
       "text": [
        "499500"
       ]
      }
     ],
     "prompt_number": 17
    },
    {
     "cell_type": "code",
     "collapsed": false,
     "input": [
      "pop_p_pos0_neg1_good = int(pop_p_pos0_good * p_neg_1_good)\n",
      "pop_p_pos0_neg1_good"
     ],
     "language": "python",
     "metadata": {},
     "outputs": [
      {
       "metadata": {},
       "output_type": "pyout",
       "prompt_number": 18,
       "text": [
        "474525"
       ]
      }
     ],
     "prompt_number": 18
    },
    {
     "cell_type": "markdown",
     "metadata": {},
     "source": [
      "## (D) True Positive Proportion"
     ]
    },
    {
     "cell_type": "code",
     "collapsed": false,
     "input": [
      "99/(474525 + 99.0)"
     ],
     "language": "python",
     "metadata": {},
     "outputs": [
      {
       "metadata": {},
       "output_type": "pyout",
       "prompt_number": 19,
       "text": [
        "0.00020858616504854368"
       ]
      }
     ],
     "prompt_number": 19
    },
    {
     "cell_type": "markdown",
     "metadata": {},
     "source": [
      "This is the same as my answer to ex 5.1"
     ]
    }
   ],
   "metadata": {}
  }
 ]
}