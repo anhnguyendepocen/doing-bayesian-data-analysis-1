{
 "metadata": {
  "name": "",
  "signature": "sha256:414ba9966217a3bc6badb6196e0a17055dbb8d9f2feb9ee3197327c100a324f8"
 },
 "nbformat": 3,
 "nbformat_minor": 0,
 "worksheets": [
  {
   "cells": [
    {
     "cell_type": "code",
     "collapsed": false,
     "input": [
      "import numpy as np\n",
      "import matplotlib.pyplot as plt\n",
      "%matplotlib inline"
     ],
     "language": "python",
     "metadata": {},
     "outputs": [],
     "prompt_number": 1
    },
    {
     "cell_type": "markdown",
     "metadata": {},
     "source": [
      "## probability density function"
     ]
    },
    {
     "cell_type": "code",
     "collapsed": false,
     "input": [
      "def p(x):\n",
      "    return 6 * x * (1 - x)"
     ],
     "language": "python",
     "metadata": {},
     "outputs": [],
     "prompt_number": 2
    },
    {
     "cell_type": "markdown",
     "metadata": {},
     "source": [
      "## (A)"
     ]
    },
    {
     "cell_type": "markdown",
     "metadata": {},
     "source": [
      "xs and ys"
     ]
    },
    {
     "cell_type": "code",
     "collapsed": false,
     "input": [
      "dx = 0.001\n",
      "xs = np.linspace(0, 1, 1/dx)\n",
      "ys = p(xs)"
     ],
     "language": "python",
     "metadata": {},
     "outputs": [],
     "prompt_number": 3
    },
    {
     "cell_type": "code",
     "collapsed": false,
     "input": [
      "fig = plt.figure()\n",
      "ax = fig.add_subplot(1, 1, 1)\n",
      "ax.set_title(\"$6 \\cdot x \\cdot (1-x)$\")\n",
      "ax.set_xlabel(\"x\")\n",
      "ax.set_ylabel(\"p(x)\")\n",
      "ax.plot(xs, ys)"
     ],
     "language": "python",
     "metadata": {},
     "outputs": [
      {
       "metadata": {},
       "output_type": "pyout",
       "prompt_number": 4,
       "text": [
        "[<matplotlib.lines.Line2D at 0x110de3b90>]"
       ]
      },
      {
       "metadata": {},
       "output_type": "display_data",
       "png": "[encoded data removed]",
       "text": [
        "<matplotlib.figure.Figure at 0x10ea467d0>"
       ]
      }
     ],
     "prompt_number": 4
    },
    {
     "cell_type": "markdown",
     "metadata": {},
     "source": [
      "## Approximating the Integral"
     ]
    },
    {
     "cell_type": "code",
     "collapsed": false,
     "input": [
      "sum(dx * ys)"
     ],
     "language": "python",
     "metadata": {},
     "outputs": [
      {
       "metadata": {},
       "output_type": "pyout",
       "prompt_number": 5,
       "text": [
        "0.99899899899899947"
       ]
      }
     ],
     "prompt_number": 5
    },
    {
     "cell_type": "markdown",
     "metadata": {},
     "source": [
      "## (B) Exact Integral"
     ]
    },
    {
     "cell_type": "markdown",
     "metadata": {},
     "source": [
      "$$ \\int_0^1 dx \\cdot 6\\cdot x \\cdot (1-x)$$"
     ]
    },
    {
     "cell_type": "markdown",
     "metadata": {},
     "source": [
      "$$ = 6 \\int_0^1 dx\\cdot(x - x^2) $$"
     ]
    },
    {
     "cell_type": "markdown",
     "metadata": {},
     "source": [
      "$$ = 6\\bigg[ \\frac{x^2}{2} - \\frac{x^3}{3}\\bigg]_0^1 $$"
     ]
    },
    {
     "cell_type": "markdown",
     "metadata": {},
     "source": [
      "$$ = 6 \\bigg[\\frac{1}{2} - \\frac{1}{3}\\bigg] $$"
     ]
    },
    {
     "cell_type": "markdown",
     "metadata": {},
     "source": [
      "$$ = 1 $$"
     ]
    },
    {
     "cell_type": "markdown",
     "metadata": {},
     "source": [
      "## (C)"
     ]
    },
    {
     "cell_type": "markdown",
     "metadata": {},
     "source": [
      "Yes, the integral of p over [0, 1] is 1"
     ]
    },
    {
     "cell_type": "markdown",
     "metadata": {},
     "source": [
      "## (D)"
     ]
    },
    {
     "cell_type": "markdown",
     "metadata": {},
     "source": [
      "From the graph, the maximum value of p(x) is 1.5"
     ]
    }
   ],
   "metadata": {}
  }
 ]
}