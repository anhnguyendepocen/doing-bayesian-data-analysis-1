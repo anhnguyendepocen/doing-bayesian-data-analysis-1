{
 "metadata": {
  "name": "",
  "signature": "sha256:f87e199ce140223dd4bda88ebf78ce3cb91c5185c7a3e170c1f9f021a978cf18"
 },
 "nbformat": 3,
 "nbformat_minor": 0,
 "worksheets": [
  {
   "cells": [
    {
     "cell_type": "code",
     "collapsed": false,
     "input": [
      "import numpy as np\n",
      "import matplotlib.pyplot as plt\n",
      "%matplotlib inline"
     ],
     "language": "python",
     "metadata": {},
     "outputs": [],
     "prompt_number": 1
    },
    {
     "cell_type": "code",
     "collapsed": false,
     "input": [
      "N = 500\n",
      "p_heads = 0.8"
     ],
     "language": "python",
     "metadata": {},
     "outputs": [],
     "prompt_number": 2
    },
    {
     "cell_type": "markdown",
     "metadata": {},
     "source": [
      "Generating a random sample of N flips"
     ]
    },
    {
     "cell_type": "code",
     "collapsed": false,
     "input": [
      "flip_sequence = np.random.choice([0.0, 1.0], p=[1-p_heads, p_heads], size=N, replace=True)\n",
      "flip_sequence[:5]"
     ],
     "language": "python",
     "metadata": {},
     "outputs": [
      {
       "metadata": {},
       "output_type": "pyout",
       "prompt_number": 3,
       "text": [
        "array([ 1.,  1.,  0.,  1.,  1.])"
       ]
      }
     ],
     "prompt_number": 3
    },
    {
     "cell_type": "code",
     "collapsed": false,
     "input": [
      "r = np.cumsum(flip_sequence)\n",
      "n = np.arange(1, N+1)\n",
      "run_prop = r/n\n",
      "run_prop[:5]"
     ],
     "language": "python",
     "metadata": {},
     "outputs": [
      {
       "metadata": {},
       "output_type": "pyout",
       "prompt_number": 4,
       "text": [
        "array([ 1.        ,  1.        ,  0.66666667,  0.75      ,  0.8       ])"
       ]
      }
     ],
     "prompt_number": 4
    },
    {
     "cell_type": "code",
     "collapsed": false,
     "input": [
      "fig = plt.figure()\n",
      "ax = fig.add_subplot(1, 1, 1)\n",
      "ax.set_title(\"Running Proportion of Heads\")\n",
      "ax.set_xscale(\"log\")\n",
      "ax.set_xlabel(\"Flip Number\")\n",
      "ax.set_ylabel(\"Proportion of Heads\")\n",
      "ax.plot(n, run_prop, \"bo\")\n",
      "xlim = ax.get_xlim()[1]\n",
      "ax.plot([0, xlim], [p_heads, p_heads],\"k--\")"
     ],
     "language": "python",
     "metadata": {},
     "outputs": [
      {
       "metadata": {},
       "output_type": "pyout",
       "prompt_number": 5,
       "text": [
        "[<matplotlib.lines.Line2D at 0x10c43fdd0>]"
       ]
      },
      {
       "metadata": {},
       "output_type": "display_data",
       "png": "[encoded data removed]",
       "text": [
        "<matplotlib.figure.Figure at 0x10a08e2d0>"
       ]
      }
     ],
     "prompt_number": 5
    }
   ],
   "metadata": {}
  }
 ]
}