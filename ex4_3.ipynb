{
 "metadata": {
  "name": "",
  "signature": "sha256:23b2dcb4848407a877cf4446cab4a624308aa592e861689e77001dd292ca1b69"
 },
 "nbformat": 3,
 "nbformat_minor": 0,
 "worksheets": [
  {
   "cells": [
    {
     "cell_type": "markdown",
     "metadata": {},
     "source": [
      "## Pinochle"
     ]
    },
    {
     "cell_type": "markdown",
     "metadata": {},
     "source": [
      "### $ P(10) $"
     ]
    },
    {
     "cell_type": "markdown",
     "metadata": {},
     "source": [
      "There are $ 2 (\\text{decks}) \\times 4 (\\text{suits}) \\times 1 (\\text{value}) = 8 \\space \\text{tens} $ in a Pinochle deck out of 48 cards\n",
      "\n",
      "$ P(10) = \\frac{8}{48} = \\frac{1}{6} $ chance of drawing a 10"
     ]
    },
    {
     "cell_type": "markdown",
     "metadata": {},
     "source": [
      "### $ P(10 + Jack) $"
     ]
    },
    {
     "cell_type": "markdown",
     "metadata": {},
     "source": [
      "There are the same number of Jacks as 10s in a pinochle deck so the probability of drawing a 10 or a Jack is the same.\n",
      "\n",
      "$ P(\\text{Jack}) = P(10) = \\frac{1}{6} $\n",
      "\n",
      "Drawing a 10 or a Jack are independent events.\n",
      "\n",
      "$ P(10 + \\text{Jack}) = P(10) + P(\\text{Jack}) = \\frac{1}{6} + \\frac{1}{6} = \\frac{1}{3} $"
     ]
    }
   ],
   "metadata": {}
  }
 ]
}