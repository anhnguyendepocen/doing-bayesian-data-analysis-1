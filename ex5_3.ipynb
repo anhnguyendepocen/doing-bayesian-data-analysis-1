{
 "metadata": {
  "name": "",
  "signature": "sha256:0b4ddbd11fea78138e2ab9a16573a4baec5a979d034e7b36bf646f8e03987f68"
 },
 "nbformat": 3,
 "nbformat_minor": 0,
 "worksheets": [
  {
   "cells": [
    {
     "cell_type": "code",
     "collapsed": false,
     "input": [
      "p_pos_1_bad = 0.99\n",
      "p_pos_1_good = 0.05\n",
      "p_bad = 0.001\n",
      "p_good = 1 - p_bad\n",
      "p_pos_good = p_pos_1_good * p_good\n",
      "p_pos_bad = p_pos_1_bad * p_bad\n",
      "p_pos = p_pos_good + p_pos_bad\n",
      "p_neg = 1 - p_pos\n",
      "p_neg_1_bad = 1 - p_pos_1_bad\n",
      "p_neg_1_good = 1 - p_pos_1_good\n",
      "p_neg_bad = p_neg_1_bad * p_bad\n",
      "p_neg_good = p_neg_1_good * p_good"
     ],
     "language": "python",
     "metadata": {},
     "outputs": [],
     "prompt_number": 1
    },
    {
     "cell_type": "markdown",
     "metadata": {},
     "source": [
      "## $P(\\ddot\\frown\\space|\\space-)$"
     ]
    },
    {
     "cell_type": "code",
     "collapsed": false,
     "input": [
      "p_bad_1_neg = p_neg_bad/p_neg\n",
      "p_bad_1_neg"
     ],
     "language": "python",
     "metadata": {},
     "outputs": [
      {
       "metadata": {},
       "output_type": "pyout",
       "prompt_number": 2,
       "text": [
        "1.0536741618022053e-05"
       ]
      }
     ],
     "prompt_number": 2
    },
    {
     "cell_type": "markdown",
     "metadata": {},
     "source": [
      "## Updating priors"
     ]
    },
    {
     "cell_type": "code",
     "collapsed": false,
     "input": [
      "p_bad = p_bad_1_neg\n",
      "p_bad"
     ],
     "language": "python",
     "metadata": {},
     "outputs": [
      {
       "metadata": {},
       "output_type": "pyout",
       "prompt_number": 3,
       "text": [
        "1.0536741618022053e-05"
       ]
      }
     ],
     "prompt_number": 3
    },
    {
     "cell_type": "markdown",
     "metadata": {},
     "source": [
      "Updating all relevant probabilities"
     ]
    },
    {
     "cell_type": "code",
     "collapsed": false,
     "input": [
      "p_good = 1 - p_bad\n",
      "p_pos_bad = p_pos_1_bad * p_bad\n",
      "p_pos_good = p_pos_1_good * p_good\n",
      "p_pos = p_pos_bad + p_pos_good"
     ],
     "language": "python",
     "metadata": {},
     "outputs": [],
     "prompt_number": 4
    },
    {
     "cell_type": "markdown",
     "metadata": {},
     "source": [
      "## $P(\\ddot\\frown\\space|\\space-,\\space+)$"
     ]
    },
    {
     "cell_type": "code",
     "collapsed": false,
     "input": [
      "p_bad_1_pos = p_pos_bad/p_pos\n",
      "p_bad_1_pos"
     ],
     "language": "python",
     "metadata": {},
     "outputs": [
      {
       "metadata": {},
       "output_type": "pyout",
       "prompt_number": 5,
       "text": [
        "0.00020858616504854387"
       ]
      }
     ],
     "prompt_number": 5
    },
    {
     "cell_type": "markdown",
     "metadata": {},
     "source": [
      "This is exactly the same as my answer to ex 5.1"
     ]
    }
   ],
   "metadata": {}
  }
 ]
}